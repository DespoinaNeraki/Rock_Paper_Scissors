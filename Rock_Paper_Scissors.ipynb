{
  "nbformat": 4,
  "nbformat_minor": 0,
  "metadata": {
    "colab": {
      "provenance": []
    },
    "kernelspec": {
      "name": "python3",
      "display_name": "Python 3"
    },
    "language_info": {
      "name": "python"
    }
  },
  "cells": [
    {
      "cell_type": "markdown",
      "source": [
        "ΔΕΣΠΟΙΝΑ ΝΕΡΑΚΗ"
      ],
      "metadata": {
        "id": "qS_mwnQI9jEh"
      }
    },
    {
      "cell_type": "markdown",
      "source": [
        "https://github.com/DespoinaNeraki/Rock_Paper_Scissors/tree/main"
      ],
      "metadata": {
        "id": "TAuMpcHp9mYO"
      }
    },
    {
      "cell_type": "markdown",
      "source": [
        "# Import Libraries"
      ],
      "metadata": {
        "id": "vDZSlG7Eu879"
      }
    },
    {
      "cell_type": "code",
      "source": [
        "import cv2\n",
        "import glob\n",
        "import numpy as np\n",
        "import tensorflow as tf\n",
        "from matplotlib import pyplot as plt\n",
        "from sklearn.model_selection import train_test_split\n",
        "from sklearn.ensemble import RandomForestClassifier\n",
        "from sklearn.svm import SVC\n",
        "from sklearn.metrics import accuracy_score\n",
        "from sklearn.decomposition import PCA\n",
        "from sklearn.model_selection import GridSearchCV"
      ],
      "metadata": {
        "id": "BvtnqphCuqWQ"
      },
      "execution_count": 76,
      "outputs": []
    },
    {
      "cell_type": "code",
      "source": [
        "from google.colab import drive\n",
        "drive.mount('/content/drive')"
      ],
      "metadata": {
        "colab": {
          "base_uri": "https://localhost:8080/"
        },
        "id": "Fa32o3-9yniD",
        "outputId": "60203b64-703b-4f9e-cabf-8cbc4f34e1aa"
      },
      "execution_count": 77,
      "outputs": [
        {
          "output_type": "stream",
          "name": "stdout",
          "text": [
            "Drive already mounted at /content/drive; to attempt to forcibly remount, call drive.mount(\"/content/drive\", force_remount=True).\n"
          ]
        }
      ]
    },
    {
      "cell_type": "markdown",
      "source": [
        "# Dictionary for Rock-Paper-Scissors Game"
      ],
      "metadata": {
        "id": "FZ7WM9bl6uWj"
      }
    },
    {
      "cell_type": "code",
      "execution_count": 78,
      "metadata": {
        "id": "R3ZHjvezuXCN"
      },
      "outputs": [],
      "source": [
        "dictionary = {\"rock\": 0, \"scissors\": 1, \"paper\": 2}"
      ]
    },
    {
      "cell_type": "markdown",
      "source": [
        "# Image Data Preprocessing for Rock-Paper-Scissors Classification"
      ],
      "metadata": {
        "id": "Xzdava5o63YK"
      }
    },
    {
      "cell_type": "code",
      "source": [
        "X = []\n",
        "y = []\n",
        "for ci, c in enumerate(['rock', 'scissors', 'paper']):\n",
        "    for im_path in glob.glob(f\"drive/MyDrive/archive/{c}/*.png\"):\n",
        "        im = cv2.imread(im_path)\n",
        "        im = cv2.cvtColor(im, cv2.COLOR_BGR2RGB)\n",
        "        im = np.float32(cv2.resize(im, (120, 80), interpolation=cv2.INTER_AREA)) / 255.0\n",
        "        X.append(im)\n",
        "        y.append(ci)\n",
        "X = np.array(X)\n",
        "y = np.array(y)\n",
        "X.shape, y.shape"
      ],
      "metadata": {
        "colab": {
          "base_uri": "https://localhost:8080/"
        },
        "id": "T4gzDlBi3qrY",
        "outputId": "b06cf29d-b836-4098-a2f6-f278e40b7e66"
      },
      "execution_count": 79,
      "outputs": [
        {
          "output_type": "execute_result",
          "data": {
            "text/plain": [
              "((2191, 80, 120, 3), (2191,))"
            ]
          },
          "metadata": {},
          "execution_count": 79
        }
      ]
    },
    {
      "cell_type": "markdown",
      "source": [
        "# Train-Test Split"
      ],
      "metadata": {
        "id": "7C-JOezj7HAI"
      }
    },
    {
      "cell_type": "code",
      "source": [
        "X_train, X_test, y_train, y_test = train_test_split(X, y, test_size=0.2, stratify=y, random_state=42)"
      ],
      "metadata": {
        "id": "HI1oYrV4u4Bm"
      },
      "execution_count": 80,
      "outputs": []
    },
    {
      "cell_type": "markdown",
      "source": [
        "# Image Augmentation Functions for Data Augmentation"
      ],
      "metadata": {
        "id": "CCoOXeD57PmM"
      }
    },
    {
      "cell_type": "code",
      "source": [
        "def apply_vertical_flip(image, probability):\n",
        "    if np.random.rand() < probability:\n",
        "        image = cv2.flip(image, 0)\n",
        "    return image\n",
        "\n",
        "def apply_horizontal_flip(image, probability):\n",
        "    if np.random.rand() < probability:\n",
        "        image = cv2.flip(image, 1)\n",
        "    return image\n",
        "\n",
        "def apply_random_noise(image, mean=0, std_dev=0.05):\n",
        "    noise = np.random.normal(mean, std_dev, image.shape)\n",
        "    noisy_image = np.clip(image + noise, 0, 1)\n",
        "    return noisy_image\n",
        "\n",
        "def apply_random_transformations(image, vertical_flip_prob=0.5, horizontal_flip_prob=0.5, noise_prob=0.5):\n",
        "    image = apply_vertical_flip(image, vertical_flip_prob)\n",
        "    image = apply_horizontal_flip(image, horizontal_flip_prob)\n",
        "    image = apply_random_noise(image)\n",
        "    return image"
      ],
      "metadata": {
        "id": "wsunnsZnxEL2"
      },
      "execution_count": 81,
      "outputs": []
    },
    {
      "cell_type": "markdown",
      "source": [
        "# Applying Vertical Flips to Training Data"
      ],
      "metadata": {
        "id": "EgvDnAcA7bd7"
      }
    },
    {
      "cell_type": "code",
      "source": [
        "X_vertical = []\n",
        "for image in X_train:\n",
        "  image_vertical = apply_vertical_flip(image, 1)\n",
        "  X_vertical.append(image_vertical)\n",
        "\n",
        "X_vertical = np.array(X_vertical)\n",
        "y_vertical = y_train.copy()\n",
        "\n",
        "X_vertical.shape, y_vertical.shape"
      ],
      "metadata": {
        "id": "4jnfpdciyDi-",
        "colab": {
          "base_uri": "https://localhost:8080/"
        },
        "outputId": "0c0d2abd-cdef-4e27-8b5c-947e5e276024"
      },
      "execution_count": 82,
      "outputs": [
        {
          "output_type": "execute_result",
          "data": {
            "text/plain": [
              "((1752, 80, 120, 3), (1752,))"
            ]
          },
          "metadata": {},
          "execution_count": 82
        }
      ]
    },
    {
      "cell_type": "markdown",
      "source": [
        "# Applying Horizontal Flips to Training Data"
      ],
      "metadata": {
        "id": "CoplIcRq7eHJ"
      }
    },
    {
      "cell_type": "code",
      "source": [
        "X_horizontal = []\n",
        "for image in X_train:\n",
        "  image_horizontal = apply_horizontal_flip(image, 1)\n",
        "  X_horizontal.append(image_horizontal)\n",
        "\n",
        "X_horizontal = np.array(X_horizontal)\n",
        "y_horizontal = y_train.copy()\n",
        "\n",
        "X_horizontal.shape, y_horizontal.shape"
      ],
      "metadata": {
        "colab": {
          "base_uri": "https://localhost:8080/"
        },
        "id": "MGwC1GFf_qul",
        "outputId": "432569c9-4df1-4209-a578-c8a8ef88ff54"
      },
      "execution_count": 83,
      "outputs": [
        {
          "output_type": "execute_result",
          "data": {
            "text/plain": [
              "((1752, 80, 120, 3), (1752,))"
            ]
          },
          "metadata": {},
          "execution_count": 83
        }
      ]
    },
    {
      "cell_type": "markdown",
      "source": [
        "# Applying Vertical and Horizontal Flips to Training Data"
      ],
      "metadata": {
        "id": "o5vM2gfG7iyr"
      }
    },
    {
      "cell_type": "code",
      "source": [
        "X_vh = []\n",
        "for image in X_train:\n",
        "  image_vh = apply_vertical_flip(image, 1)\n",
        "  image_vh = apply_horizontal_flip(image_vh, 1)\n",
        "  X_vh.append(image_vh)\n",
        "\n",
        "X_vh = np.array(X_vh)\n",
        "y_vh = y_train.copy()\n",
        "\n",
        "X_vh.shape, y_vh.shape"
      ],
      "metadata": {
        "colab": {
          "base_uri": "https://localhost:8080/"
        },
        "id": "Lk-uiGdLA_Hx",
        "outputId": "6e8e78cb-c443-4be4-97f0-cf6b1fb623a1"
      },
      "execution_count": 84,
      "outputs": [
        {
          "output_type": "execute_result",
          "data": {
            "text/plain": [
              "((1752, 80, 120, 3), (1752,))"
            ]
          },
          "metadata": {},
          "execution_count": 84
        }
      ]
    },
    {
      "cell_type": "markdown",
      "source": [
        "# Combining Augmented Data for Training"
      ],
      "metadata": {
        "id": "Fxsgb-Bp7rih"
      }
    },
    {
      "cell_type": "code",
      "source": [
        "X_train = np.concatenate((X_train, X_vertical, X_horizontal, X_vh),axis=0)"
      ],
      "metadata": {
        "id": "_BUXxkOcB5ds"
      },
      "execution_count": 85,
      "outputs": []
    },
    {
      "cell_type": "code",
      "source": [
        "X_train.shape"
      ],
      "metadata": {
        "colab": {
          "base_uri": "https://localhost:8080/"
        },
        "id": "c2fKwz9xCSX0",
        "outputId": "53702fac-ee12-459d-9014-b78b125a5fc5"
      },
      "execution_count": 86,
      "outputs": [
        {
          "output_type": "execute_result",
          "data": {
            "text/plain": [
              "(7008, 80, 120, 3)"
            ]
          },
          "metadata": {},
          "execution_count": 86
        }
      ]
    },
    {
      "cell_type": "code",
      "source": [
        "y_train = np.concatenate((y_train, y_vertical, y_horizontal, y_vh), axis=0)"
      ],
      "metadata": {
        "id": "hp-g62HmCj6B"
      },
      "execution_count": 87,
      "outputs": []
    },
    {
      "cell_type": "code",
      "source": [
        "y_train.shape"
      ],
      "metadata": {
        "colab": {
          "base_uri": "https://localhost:8080/"
        },
        "id": "UyhXfvzwCwYW",
        "outputId": "e9c7cabc-c741-455f-a7d1-4883a6843566"
      },
      "execution_count": 88,
      "outputs": [
        {
          "output_type": "execute_result",
          "data": {
            "text/plain": [
              "(7008,)"
            ]
          },
          "metadata": {},
          "execution_count": 88
        }
      ]
    },
    {
      "cell_type": "markdown",
      "source": [
        "# Applying Random Noise to Training Data"
      ],
      "metadata": {
        "id": "DPae1dLU72_F"
      }
    },
    {
      "cell_type": "code",
      "source": [
        "X_train_noise = []\n",
        "for image in X_train:\n",
        "  image_noise = apply_random_noise(image)\n",
        "  X_train_noise.append(image)\n",
        "\n",
        "X_train_noise = np.array(X_train_noise)"
      ],
      "metadata": {
        "id": "8DHdtETRDE3C"
      },
      "execution_count": 89,
      "outputs": []
    },
    {
      "cell_type": "markdown",
      "source": [
        "# Flattening Augmented Training Data"
      ],
      "metadata": {
        "id": "dCW522m97_7s"
      }
    },
    {
      "cell_type": "code",
      "source": [
        "X_train_flatten = X_train_noise.reshape(X_train_noise.shape[0], -1)"
      ],
      "metadata": {
        "id": "j3VMZ43uFcWr"
      },
      "execution_count": 90,
      "outputs": []
    },
    {
      "cell_type": "markdown",
      "source": [
        "# Dimensionality Reduction using PCA on Augmented Training Data"
      ],
      "metadata": {
        "id": "WDBc9QK68Gz9"
      }
    },
    {
      "cell_type": "code",
      "source": [
        "pca = PCA(n_components=0.9)\n",
        "X_train_trans = pca.fit_transform(X_train_flatten)"
      ],
      "metadata": {
        "id": "mEYfFMUGIsAe"
      },
      "execution_count": 91,
      "outputs": []
    },
    {
      "cell_type": "code",
      "source": [
        "X_train_trans.shape"
      ],
      "metadata": {
        "colab": {
          "base_uri": "https://localhost:8080/"
        },
        "id": "4cc2UsfpLYuV",
        "outputId": "21b1628d-d061-4437-a3aa-4d09d3b25083"
      },
      "execution_count": 92,
      "outputs": [
        {
          "output_type": "execute_result",
          "data": {
            "text/plain": [
              "(7008, 98)"
            ]
          },
          "metadata": {},
          "execution_count": 92
        }
      ]
    },
    {
      "cell_type": "markdown",
      "source": [
        "# Flattening Testing Data"
      ],
      "metadata": {
        "id": "hEZQuOpB8Nxl"
      }
    },
    {
      "cell_type": "code",
      "source": [
        "X_test_flatten = X_test.reshape(X_test.shape[0], -1)"
      ],
      "metadata": {
        "id": "3dTbsQV_HMDc"
      },
      "execution_count": 93,
      "outputs": []
    },
    {
      "cell_type": "code",
      "source": [
        "X_test_trans = pca.transform(X_test_flatten)"
      ],
      "metadata": {
        "id": "qLtPB2RKJH7Z"
      },
      "execution_count": 94,
      "outputs": []
    },
    {
      "cell_type": "code",
      "source": [
        "X_test_trans.shape"
      ],
      "metadata": {
        "colab": {
          "base_uri": "https://localhost:8080/"
        },
        "id": "AaQCoQ3VLdBX",
        "outputId": "ed2c2c29-6700-4d81-da1b-74eb55dcd996"
      },
      "execution_count": 95,
      "outputs": [
        {
          "output_type": "execute_result",
          "data": {
            "text/plain": [
              "(439, 98)"
            ]
          },
          "metadata": {},
          "execution_count": 95
        }
      ]
    },
    {
      "cell_type": "markdown",
      "source": [
        "# Grid Search for Random Forest Classifier Hyperparameters"
      ],
      "metadata": {
        "id": "BeThy1Kt8b5h"
      }
    },
    {
      "cell_type": "markdown",
      "source": [
        "Ο λόγος που χρησιμοποιούμε random forest είναι επειδή συνήθως τα ensemble μοντέλα αποδίδουν καλά και έχουν υψηλή αντοχή στο overfitting."
      ],
      "metadata": {
        "id": "t2zlpW_E7AkC"
      }
    },
    {
      "cell_type": "code",
      "source": [
        "random_forest = GridSearchCV(\n",
        "    RandomForestClassifier(n_jobs=-1),\n",
        "    {'n_estimators':[100, 250],\n",
        "     'criterion': ['gini','entropy'],\n",
        "     'min_samples_split': [2,3],\n",
        "     'min_samples_leaf' : [1,2]\n",
        "     },\n",
        "    verbose=10\n",
        "    )\n",
        "random_forest.fit(X_train_trans, y_train)"
      ],
      "metadata": {
        "colab": {
          "base_uri": "https://localhost:8080/",
          "height": 1000
        },
        "id": "QaXK0nN3EKMI",
        "outputId": "c6496d60-2a1c-46fb-ec00-bf0f4984d329"
      },
      "execution_count": 96,
      "outputs": [
        {
          "output_type": "stream",
          "name": "stdout",
          "text": [
            "Fitting 5 folds for each of 16 candidates, totalling 80 fits\n",
            "[CV 1/5; 1/16] START criterion=gini, min_samples_leaf=1, min_samples_split=2, n_estimators=100\n",
            "[CV 1/5; 1/16] END criterion=gini, min_samples_leaf=1, min_samples_split=2, n_estimators=100;, score=1.000 total time=   4.0s\n",
            "[CV 2/5; 1/16] START criterion=gini, min_samples_leaf=1, min_samples_split=2, n_estimators=100\n",
            "[CV 2/5; 1/16] END criterion=gini, min_samples_leaf=1, min_samples_split=2, n_estimators=100;, score=1.000 total time=   4.8s\n",
            "[CV 3/5; 1/16] START criterion=gini, min_samples_leaf=1, min_samples_split=2, n_estimators=100\n",
            "[CV 3/5; 1/16] END criterion=gini, min_samples_leaf=1, min_samples_split=2, n_estimators=100;, score=0.999 total time=   4.4s\n",
            "[CV 4/5; 1/16] START criterion=gini, min_samples_leaf=1, min_samples_split=2, n_estimators=100\n",
            "[CV 4/5; 1/16] END criterion=gini, min_samples_leaf=1, min_samples_split=2, n_estimators=100;, score=1.000 total time=   4.5s\n",
            "[CV 5/5; 1/16] START criterion=gini, min_samples_leaf=1, min_samples_split=2, n_estimators=100\n",
            "[CV 5/5; 1/16] END criterion=gini, min_samples_leaf=1, min_samples_split=2, n_estimators=100;, score=1.000 total time=   6.3s\n",
            "[CV 1/5; 2/16] START criterion=gini, min_samples_leaf=1, min_samples_split=2, n_estimators=250\n",
            "[CV 1/5; 2/16] END criterion=gini, min_samples_leaf=1, min_samples_split=2, n_estimators=250;, score=0.999 total time=   9.5s\n",
            "[CV 2/5; 2/16] START criterion=gini, min_samples_leaf=1, min_samples_split=2, n_estimators=250\n",
            "[CV 2/5; 2/16] END criterion=gini, min_samples_leaf=1, min_samples_split=2, n_estimators=250;, score=1.000 total time=  11.1s\n",
            "[CV 3/5; 2/16] START criterion=gini, min_samples_leaf=1, min_samples_split=2, n_estimators=250\n",
            "[CV 3/5; 2/16] END criterion=gini, min_samples_leaf=1, min_samples_split=2, n_estimators=250;, score=0.999 total time=  11.1s\n",
            "[CV 4/5; 2/16] START criterion=gini, min_samples_leaf=1, min_samples_split=2, n_estimators=250\n",
            "[CV 4/5; 2/16] END criterion=gini, min_samples_leaf=1, min_samples_split=2, n_estimators=250;, score=1.000 total time=  11.1s\n",
            "[CV 5/5; 2/16] START criterion=gini, min_samples_leaf=1, min_samples_split=2, n_estimators=250\n",
            "[CV 5/5; 2/16] END criterion=gini, min_samples_leaf=1, min_samples_split=2, n_estimators=250;, score=0.999 total time=   9.9s\n",
            "[CV 1/5; 3/16] START criterion=gini, min_samples_leaf=1, min_samples_split=3, n_estimators=100\n",
            "[CV 1/5; 3/16] END criterion=gini, min_samples_leaf=1, min_samples_split=3, n_estimators=100;, score=0.999 total time=   4.8s\n",
            "[CV 2/5; 3/16] START criterion=gini, min_samples_leaf=1, min_samples_split=3, n_estimators=100\n",
            "[CV 2/5; 3/16] END criterion=gini, min_samples_leaf=1, min_samples_split=3, n_estimators=100;, score=1.000 total time=   3.7s\n",
            "[CV 3/5; 3/16] START criterion=gini, min_samples_leaf=1, min_samples_split=3, n_estimators=100\n",
            "[CV 3/5; 3/16] END criterion=gini, min_samples_leaf=1, min_samples_split=3, n_estimators=100;, score=0.999 total time=   3.8s\n",
            "[CV 4/5; 3/16] START criterion=gini, min_samples_leaf=1, min_samples_split=3, n_estimators=100\n",
            "[CV 4/5; 3/16] END criterion=gini, min_samples_leaf=1, min_samples_split=3, n_estimators=100;, score=0.999 total time=   5.4s\n",
            "[CV 5/5; 3/16] START criterion=gini, min_samples_leaf=1, min_samples_split=3, n_estimators=100\n",
            "[CV 5/5; 3/16] END criterion=gini, min_samples_leaf=1, min_samples_split=3, n_estimators=100;, score=0.999 total time=   3.7s\n",
            "[CV 1/5; 4/16] START criterion=gini, min_samples_leaf=1, min_samples_split=3, n_estimators=250\n",
            "[CV 1/5; 4/16] END criterion=gini, min_samples_leaf=1, min_samples_split=3, n_estimators=250;, score=1.000 total time=  11.1s\n",
            "[CV 2/5; 4/16] START criterion=gini, min_samples_leaf=1, min_samples_split=3, n_estimators=250\n",
            "[CV 2/5; 4/16] END criterion=gini, min_samples_leaf=1, min_samples_split=3, n_estimators=250;, score=1.000 total time=  10.4s\n",
            "[CV 3/5; 4/16] START criterion=gini, min_samples_leaf=1, min_samples_split=3, n_estimators=250\n",
            "[CV 3/5; 4/16] END criterion=gini, min_samples_leaf=1, min_samples_split=3, n_estimators=250;, score=0.999 total time=  10.1s\n",
            "[CV 4/5; 4/16] START criterion=gini, min_samples_leaf=1, min_samples_split=3, n_estimators=250\n",
            "[CV 4/5; 4/16] END criterion=gini, min_samples_leaf=1, min_samples_split=3, n_estimators=250;, score=1.000 total time=  11.2s\n",
            "[CV 5/5; 4/16] START criterion=gini, min_samples_leaf=1, min_samples_split=3, n_estimators=250\n",
            "[CV 5/5; 4/16] END criterion=gini, min_samples_leaf=1, min_samples_split=3, n_estimators=250;, score=1.000 total time=  11.1s\n",
            "[CV 1/5; 5/16] START criterion=gini, min_samples_leaf=2, min_samples_split=2, n_estimators=100\n",
            "[CV 1/5; 5/16] END criterion=gini, min_samples_leaf=2, min_samples_split=2, n_estimators=100;, score=0.999 total time=   3.7s\n",
            "[CV 2/5; 5/16] START criterion=gini, min_samples_leaf=2, min_samples_split=2, n_estimators=100\n",
            "[CV 2/5; 5/16] END criterion=gini, min_samples_leaf=2, min_samples_split=2, n_estimators=100;, score=0.999 total time=   4.5s\n",
            "[CV 3/5; 5/16] START criterion=gini, min_samples_leaf=2, min_samples_split=2, n_estimators=100\n",
            "[CV 3/5; 5/16] END criterion=gini, min_samples_leaf=2, min_samples_split=2, n_estimators=100;, score=0.998 total time=   5.4s\n",
            "[CV 4/5; 5/16] START criterion=gini, min_samples_leaf=2, min_samples_split=2, n_estimators=100\n",
            "[CV 4/5; 5/16] END criterion=gini, min_samples_leaf=2, min_samples_split=2, n_estimators=100;, score=0.999 total time=   4.7s\n",
            "[CV 5/5; 5/16] START criterion=gini, min_samples_leaf=2, min_samples_split=2, n_estimators=100\n",
            "[CV 5/5; 5/16] END criterion=gini, min_samples_leaf=2, min_samples_split=2, n_estimators=100;, score=0.998 total time=   5.1s\n",
            "[CV 1/5; 6/16] START criterion=gini, min_samples_leaf=2, min_samples_split=2, n_estimators=250\n",
            "[CV 1/5; 6/16] END criterion=gini, min_samples_leaf=2, min_samples_split=2, n_estimators=250;, score=0.999 total time=   9.6s\n",
            "[CV 2/5; 6/16] START criterion=gini, min_samples_leaf=2, min_samples_split=2, n_estimators=250\n",
            "[CV 2/5; 6/16] END criterion=gini, min_samples_leaf=2, min_samples_split=2, n_estimators=250;, score=1.000 total time=  10.8s\n",
            "[CV 3/5; 6/16] START criterion=gini, min_samples_leaf=2, min_samples_split=2, n_estimators=250\n",
            "[CV 3/5; 6/16] END criterion=gini, min_samples_leaf=2, min_samples_split=2, n_estimators=250;, score=0.999 total time=  10.9s\n",
            "[CV 4/5; 6/16] START criterion=gini, min_samples_leaf=2, min_samples_split=2, n_estimators=250\n",
            "[CV 4/5; 6/16] END criterion=gini, min_samples_leaf=2, min_samples_split=2, n_estimators=250;, score=0.999 total time=  11.0s\n",
            "[CV 5/5; 6/16] START criterion=gini, min_samples_leaf=2, min_samples_split=2, n_estimators=250\n",
            "[CV 5/5; 6/16] END criterion=gini, min_samples_leaf=2, min_samples_split=2, n_estimators=250;, score=0.999 total time=   9.3s\n",
            "[CV 1/5; 7/16] START criterion=gini, min_samples_leaf=2, min_samples_split=3, n_estimators=100\n",
            "[CV 1/5; 7/16] END criterion=gini, min_samples_leaf=2, min_samples_split=3, n_estimators=100;, score=0.999 total time=   5.4s\n",
            "[CV 2/5; 7/16] START criterion=gini, min_samples_leaf=2, min_samples_split=3, n_estimators=100\n",
            "[CV 2/5; 7/16] END criterion=gini, min_samples_leaf=2, min_samples_split=3, n_estimators=100;, score=0.999 total time=   3.7s\n",
            "[CV 3/5; 7/16] START criterion=gini, min_samples_leaf=2, min_samples_split=3, n_estimators=100\n",
            "[CV 3/5; 7/16] END criterion=gini, min_samples_leaf=2, min_samples_split=3, n_estimators=100;, score=0.999 total time=   3.8s\n",
            "[CV 4/5; 7/16] START criterion=gini, min_samples_leaf=2, min_samples_split=3, n_estimators=100\n",
            "[CV 4/5; 7/16] END criterion=gini, min_samples_leaf=2, min_samples_split=3, n_estimators=100;, score=0.999 total time=   5.3s\n",
            "[CV 5/5; 7/16] START criterion=gini, min_samples_leaf=2, min_samples_split=3, n_estimators=100\n",
            "[CV 5/5; 7/16] END criterion=gini, min_samples_leaf=2, min_samples_split=3, n_estimators=100;, score=0.999 total time=   3.8s\n",
            "[CV 1/5; 8/16] START criterion=gini, min_samples_leaf=2, min_samples_split=3, n_estimators=250\n",
            "[CV 1/5; 8/16] END criterion=gini, min_samples_leaf=2, min_samples_split=3, n_estimators=250;, score=0.999 total time=  10.9s\n",
            "[CV 2/5; 8/16] START criterion=gini, min_samples_leaf=2, min_samples_split=3, n_estimators=250\n",
            "[CV 2/5; 8/16] END criterion=gini, min_samples_leaf=2, min_samples_split=3, n_estimators=250;, score=1.000 total time=   9.3s\n",
            "[CV 3/5; 8/16] START criterion=gini, min_samples_leaf=2, min_samples_split=3, n_estimators=250\n",
            "[CV 3/5; 8/16] END criterion=gini, min_samples_leaf=2, min_samples_split=3, n_estimators=250;, score=0.999 total time=  10.9s\n",
            "[CV 4/5; 8/16] START criterion=gini, min_samples_leaf=2, min_samples_split=3, n_estimators=250\n",
            "[CV 4/5; 8/16] END criterion=gini, min_samples_leaf=2, min_samples_split=3, n_estimators=250;, score=0.999 total time=  10.9s\n",
            "[CV 5/5; 8/16] START criterion=gini, min_samples_leaf=2, min_samples_split=3, n_estimators=250\n",
            "[CV 5/5; 8/16] END criterion=gini, min_samples_leaf=2, min_samples_split=3, n_estimators=250;, score=0.999 total time=  11.0s\n",
            "[CV 1/5; 9/16] START criterion=entropy, min_samples_leaf=1, min_samples_split=2, n_estimators=100\n",
            "[CV 1/5; 9/16] END criterion=entropy, min_samples_leaf=1, min_samples_split=2, n_estimators=100;, score=0.999 total time=   5.5s\n",
            "[CV 2/5; 9/16] START criterion=entropy, min_samples_leaf=1, min_samples_split=2, n_estimators=100\n",
            "[CV 2/5; 9/16] END criterion=entropy, min_samples_leaf=1, min_samples_split=2, n_estimators=100;, score=1.000 total time=   8.4s\n",
            "[CV 3/5; 9/16] START criterion=entropy, min_samples_leaf=1, min_samples_split=2, n_estimators=100\n",
            "[CV 3/5; 9/16] END criterion=entropy, min_samples_leaf=1, min_samples_split=2, n_estimators=100;, score=1.000 total time=   5.5s\n",
            "[CV 4/5; 9/16] START criterion=entropy, min_samples_leaf=1, min_samples_split=2, n_estimators=100\n",
            "[CV 4/5; 9/16] END criterion=entropy, min_samples_leaf=1, min_samples_split=2, n_estimators=100;, score=0.999 total time=   6.8s\n",
            "[CV 5/5; 9/16] START criterion=entropy, min_samples_leaf=1, min_samples_split=2, n_estimators=100\n",
            "[CV 5/5; 9/16] END criterion=entropy, min_samples_leaf=1, min_samples_split=2, n_estimators=100;, score=1.000 total time=   5.4s\n",
            "[CV 1/5; 10/16] START criterion=entropy, min_samples_leaf=1, min_samples_split=2, n_estimators=250\n",
            "[CV 1/5; 10/16] END criterion=entropy, min_samples_leaf=1, min_samples_split=2, n_estimators=250;, score=0.999 total time=  14.8s\n",
            "[CV 2/5; 10/16] START criterion=entropy, min_samples_leaf=1, min_samples_split=2, n_estimators=250\n",
            "[CV 2/5; 10/16] END criterion=entropy, min_samples_leaf=1, min_samples_split=2, n_estimators=250;, score=1.000 total time=  14.8s\n",
            "[CV 3/5; 10/16] START criterion=entropy, min_samples_leaf=1, min_samples_split=2, n_estimators=250\n",
            "[CV 3/5; 10/16] END criterion=entropy, min_samples_leaf=1, min_samples_split=2, n_estimators=250;, score=1.000 total time=  14.8s\n",
            "[CV 4/5; 10/16] START criterion=entropy, min_samples_leaf=1, min_samples_split=2, n_estimators=250\n",
            "[CV 4/5; 10/16] END criterion=entropy, min_samples_leaf=1, min_samples_split=2, n_estimators=250;, score=1.000 total time=  15.1s\n",
            "[CV 5/5; 10/16] START criterion=entropy, min_samples_leaf=1, min_samples_split=2, n_estimators=250\n",
            "[CV 5/5; 10/16] END criterion=entropy, min_samples_leaf=1, min_samples_split=2, n_estimators=250;, score=1.000 total time=  15.6s\n",
            "[CV 1/5; 11/16] START criterion=entropy, min_samples_leaf=1, min_samples_split=3, n_estimators=100\n",
            "[CV 1/5; 11/16] END criterion=entropy, min_samples_leaf=1, min_samples_split=3, n_estimators=100;, score=0.999 total time=   6.0s\n",
            "[CV 2/5; 11/16] START criterion=entropy, min_samples_leaf=1, min_samples_split=3, n_estimators=100\n",
            "[CV 2/5; 11/16] END criterion=entropy, min_samples_leaf=1, min_samples_split=3, n_estimators=100;, score=1.000 total time=   5.3s\n",
            "[CV 3/5; 11/16] START criterion=entropy, min_samples_leaf=1, min_samples_split=3, n_estimators=100\n",
            "[CV 3/5; 11/16] END criterion=entropy, min_samples_leaf=1, min_samples_split=3, n_estimators=100;, score=0.999 total time=   6.9s\n",
            "[CV 4/5; 11/16] START criterion=entropy, min_samples_leaf=1, min_samples_split=3, n_estimators=100\n",
            "[CV 4/5; 11/16] END criterion=entropy, min_samples_leaf=1, min_samples_split=3, n_estimators=100;, score=1.000 total time=   5.3s\n",
            "[CV 5/5; 11/16] START criterion=entropy, min_samples_leaf=1, min_samples_split=3, n_estimators=100\n",
            "[CV 5/5; 11/16] END criterion=entropy, min_samples_leaf=1, min_samples_split=3, n_estimators=100;, score=0.999 total time=   6.8s\n",
            "[CV 1/5; 12/16] START criterion=entropy, min_samples_leaf=1, min_samples_split=3, n_estimators=250\n",
            "[CV 1/5; 12/16] END criterion=entropy, min_samples_leaf=1, min_samples_split=3, n_estimators=250;, score=0.999 total time=  16.4s\n",
            "[CV 2/5; 12/16] START criterion=entropy, min_samples_leaf=1, min_samples_split=3, n_estimators=250\n",
            "[CV 2/5; 12/16] END criterion=entropy, min_samples_leaf=1, min_samples_split=3, n_estimators=250;, score=1.000 total time=  14.6s\n",
            "[CV 3/5; 12/16] START criterion=entropy, min_samples_leaf=1, min_samples_split=3, n_estimators=250\n",
            "[CV 3/5; 12/16] END criterion=entropy, min_samples_leaf=1, min_samples_split=3, n_estimators=250;, score=0.999 total time=  14.7s\n",
            "[CV 4/5; 12/16] START criterion=entropy, min_samples_leaf=1, min_samples_split=3, n_estimators=250\n",
            "[CV 4/5; 12/16] END criterion=entropy, min_samples_leaf=1, min_samples_split=3, n_estimators=250;, score=1.000 total time=  14.7s\n",
            "[CV 5/5; 12/16] START criterion=entropy, min_samples_leaf=1, min_samples_split=3, n_estimators=250\n",
            "[CV 5/5; 12/16] END criterion=entropy, min_samples_leaf=1, min_samples_split=3, n_estimators=250;, score=0.999 total time=  14.7s\n",
            "[CV 1/5; 13/16] START criterion=entropy, min_samples_leaf=2, min_samples_split=2, n_estimators=100\n",
            "[CV 1/5; 13/16] END criterion=entropy, min_samples_leaf=2, min_samples_split=2, n_estimators=100;, score=0.999 total time=   6.7s\n",
            "[CV 2/5; 13/16] START criterion=entropy, min_samples_leaf=2, min_samples_split=2, n_estimators=100\n",
            "[CV 2/5; 13/16] END criterion=entropy, min_samples_leaf=2, min_samples_split=2, n_estimators=100;, score=0.999 total time=   5.3s\n",
            "[CV 3/5; 13/16] START criterion=entropy, min_samples_leaf=2, min_samples_split=2, n_estimators=100\n",
            "[CV 3/5; 13/16] END criterion=entropy, min_samples_leaf=2, min_samples_split=2, n_estimators=100;, score=0.999 total time=   6.1s\n",
            "[CV 4/5; 13/16] START criterion=entropy, min_samples_leaf=2, min_samples_split=2, n_estimators=100\n",
            "[CV 4/5; 13/16] END criterion=entropy, min_samples_leaf=2, min_samples_split=2, n_estimators=100;, score=0.999 total time=   5.9s\n",
            "[CV 5/5; 13/16] START criterion=entropy, min_samples_leaf=2, min_samples_split=2, n_estimators=100\n",
            "[CV 5/5; 13/16] END criterion=entropy, min_samples_leaf=2, min_samples_split=2, n_estimators=100;, score=0.999 total time=   5.3s\n",
            "[CV 1/5; 14/16] START criterion=entropy, min_samples_leaf=2, min_samples_split=2, n_estimators=250\n",
            "[CV 1/5; 14/16] END criterion=entropy, min_samples_leaf=2, min_samples_split=2, n_estimators=250;, score=0.999 total time=  14.9s\n",
            "[CV 2/5; 14/16] START criterion=entropy, min_samples_leaf=2, min_samples_split=2, n_estimators=250\n",
            "[CV 2/5; 14/16] END criterion=entropy, min_samples_leaf=2, min_samples_split=2, n_estimators=250;, score=1.000 total time=  15.0s\n",
            "[CV 3/5; 14/16] START criterion=entropy, min_samples_leaf=2, min_samples_split=2, n_estimators=250\n",
            "[CV 3/5; 14/16] END criterion=entropy, min_samples_leaf=2, min_samples_split=2, n_estimators=250;, score=0.999 total time=  15.1s\n",
            "[CV 4/5; 14/16] START criterion=entropy, min_samples_leaf=2, min_samples_split=2, n_estimators=250\n",
            "[CV 4/5; 14/16] END criterion=entropy, min_samples_leaf=2, min_samples_split=2, n_estimators=250;, score=0.999 total time=  20.4s\n",
            "[CV 5/5; 14/16] START criterion=entropy, min_samples_leaf=2, min_samples_split=2, n_estimators=250\n",
            "[CV 5/5; 14/16] END criterion=entropy, min_samples_leaf=2, min_samples_split=2, n_estimators=250;, score=0.999 total time=  14.7s\n",
            "[CV 1/5; 15/16] START criterion=entropy, min_samples_leaf=2, min_samples_split=3, n_estimators=100\n",
            "[CV 1/5; 15/16] END criterion=entropy, min_samples_leaf=2, min_samples_split=3, n_estimators=100;, score=0.999 total time=   5.3s\n",
            "[CV 2/5; 15/16] START criterion=entropy, min_samples_leaf=2, min_samples_split=3, n_estimators=100\n",
            "[CV 2/5; 15/16] END criterion=entropy, min_samples_leaf=2, min_samples_split=3, n_estimators=100;, score=1.000 total time=   6.6s\n",
            "[CV 3/5; 15/16] START criterion=entropy, min_samples_leaf=2, min_samples_split=3, n_estimators=100\n",
            "[CV 3/5; 15/16] END criterion=entropy, min_samples_leaf=2, min_samples_split=3, n_estimators=100;, score=0.998 total time=   5.5s\n",
            "[CV 4/5; 15/16] START criterion=entropy, min_samples_leaf=2, min_samples_split=3, n_estimators=100\n",
            "[CV 4/5; 15/16] END criterion=entropy, min_samples_leaf=2, min_samples_split=3, n_estimators=100;, score=0.999 total time=   5.4s\n",
            "[CV 5/5; 15/16] START criterion=entropy, min_samples_leaf=2, min_samples_split=3, n_estimators=100\n",
            "[CV 5/5; 15/16] END criterion=entropy, min_samples_leaf=2, min_samples_split=3, n_estimators=100;, score=0.999 total time=   6.6s\n",
            "[CV 1/5; 16/16] START criterion=entropy, min_samples_leaf=2, min_samples_split=3, n_estimators=250\n",
            "[CV 1/5; 16/16] END criterion=entropy, min_samples_leaf=2, min_samples_split=3, n_estimators=250;, score=0.999 total time=  14.8s\n",
            "[CV 2/5; 16/16] START criterion=entropy, min_samples_leaf=2, min_samples_split=3, n_estimators=250\n",
            "[CV 2/5; 16/16] END criterion=entropy, min_samples_leaf=2, min_samples_split=3, n_estimators=250;, score=1.000 total time=  14.5s\n",
            "[CV 3/5; 16/16] START criterion=entropy, min_samples_leaf=2, min_samples_split=3, n_estimators=250\n",
            "[CV 3/5; 16/16] END criterion=entropy, min_samples_leaf=2, min_samples_split=3, n_estimators=250;, score=0.999 total time=  14.8s\n",
            "[CV 4/5; 16/16] START criterion=entropy, min_samples_leaf=2, min_samples_split=3, n_estimators=250\n",
            "[CV 4/5; 16/16] END criterion=entropy, min_samples_leaf=2, min_samples_split=3, n_estimators=250;, score=0.999 total time=  14.6s\n",
            "[CV 5/5; 16/16] START criterion=entropy, min_samples_leaf=2, min_samples_split=3, n_estimators=250\n",
            "[CV 5/5; 16/16] END criterion=entropy, min_samples_leaf=2, min_samples_split=3, n_estimators=250;, score=0.999 total time=  14.6s\n"
          ]
        },
        {
          "output_type": "execute_result",
          "data": {
            "text/plain": [
              "GridSearchCV(estimator=RandomForestClassifier(n_jobs=-1),\n",
              "             param_grid={'criterion': ['gini', 'entropy'],\n",
              "                         'min_samples_leaf': [1, 2],\n",
              "                         'min_samples_split': [2, 3],\n",
              "                         'n_estimators': [100, 250]},\n",
              "             verbose=10)"
            ],
            "text/html": [
              "<style>#sk-container-id-3 {color: black;background-color: white;}#sk-container-id-3 pre{padding: 0;}#sk-container-id-3 div.sk-toggleable {background-color: white;}#sk-container-id-3 label.sk-toggleable__label {cursor: pointer;display: block;width: 100%;margin-bottom: 0;padding: 0.3em;box-sizing: border-box;text-align: center;}#sk-container-id-3 label.sk-toggleable__label-arrow:before {content: \"▸\";float: left;margin-right: 0.25em;color: #696969;}#sk-container-id-3 label.sk-toggleable__label-arrow:hover:before {color: black;}#sk-container-id-3 div.sk-estimator:hover label.sk-toggleable__label-arrow:before {color: black;}#sk-container-id-3 div.sk-toggleable__content {max-height: 0;max-width: 0;overflow: hidden;text-align: left;background-color: #f0f8ff;}#sk-container-id-3 div.sk-toggleable__content pre {margin: 0.2em;color: black;border-radius: 0.25em;background-color: #f0f8ff;}#sk-container-id-3 input.sk-toggleable__control:checked~div.sk-toggleable__content {max-height: 200px;max-width: 100%;overflow: auto;}#sk-container-id-3 input.sk-toggleable__control:checked~label.sk-toggleable__label-arrow:before {content: \"▾\";}#sk-container-id-3 div.sk-estimator input.sk-toggleable__control:checked~label.sk-toggleable__label {background-color: #d4ebff;}#sk-container-id-3 div.sk-label input.sk-toggleable__control:checked~label.sk-toggleable__label {background-color: #d4ebff;}#sk-container-id-3 input.sk-hidden--visually {border: 0;clip: rect(1px 1px 1px 1px);clip: rect(1px, 1px, 1px, 1px);height: 1px;margin: -1px;overflow: hidden;padding: 0;position: absolute;width: 1px;}#sk-container-id-3 div.sk-estimator {font-family: monospace;background-color: #f0f8ff;border: 1px dotted black;border-radius: 0.25em;box-sizing: border-box;margin-bottom: 0.5em;}#sk-container-id-3 div.sk-estimator:hover {background-color: #d4ebff;}#sk-container-id-3 div.sk-parallel-item::after {content: \"\";width: 100%;border-bottom: 1px solid gray;flex-grow: 1;}#sk-container-id-3 div.sk-label:hover label.sk-toggleable__label {background-color: #d4ebff;}#sk-container-id-3 div.sk-serial::before {content: \"\";position: absolute;border-left: 1px solid gray;box-sizing: border-box;top: 0;bottom: 0;left: 50%;z-index: 0;}#sk-container-id-3 div.sk-serial {display: flex;flex-direction: column;align-items: center;background-color: white;padding-right: 0.2em;padding-left: 0.2em;position: relative;}#sk-container-id-3 div.sk-item {position: relative;z-index: 1;}#sk-container-id-3 div.sk-parallel {display: flex;align-items: stretch;justify-content: center;background-color: white;position: relative;}#sk-container-id-3 div.sk-item::before, #sk-container-id-3 div.sk-parallel-item::before {content: \"\";position: absolute;border-left: 1px solid gray;box-sizing: border-box;top: 0;bottom: 0;left: 50%;z-index: -1;}#sk-container-id-3 div.sk-parallel-item {display: flex;flex-direction: column;z-index: 1;position: relative;background-color: white;}#sk-container-id-3 div.sk-parallel-item:first-child::after {align-self: flex-end;width: 50%;}#sk-container-id-3 div.sk-parallel-item:last-child::after {align-self: flex-start;width: 50%;}#sk-container-id-3 div.sk-parallel-item:only-child::after {width: 0;}#sk-container-id-3 div.sk-dashed-wrapped {border: 1px dashed gray;margin: 0 0.4em 0.5em 0.4em;box-sizing: border-box;padding-bottom: 0.4em;background-color: white;}#sk-container-id-3 div.sk-label label {font-family: monospace;font-weight: bold;display: inline-block;line-height: 1.2em;}#sk-container-id-3 div.sk-label-container {text-align: center;}#sk-container-id-3 div.sk-container {/* jupyter's `normalize.less` sets `[hidden] { display: none; }` but bootstrap.min.css set `[hidden] { display: none !important; }` so we also need the `!important` here to be able to override the default hidden behavior on the sphinx rendered scikit-learn.org. See: https://github.com/scikit-learn/scikit-learn/issues/21755 */display: inline-block !important;position: relative;}#sk-container-id-3 div.sk-text-repr-fallback {display: none;}</style><div id=\"sk-container-id-3\" class=\"sk-top-container\"><div class=\"sk-text-repr-fallback\"><pre>GridSearchCV(estimator=RandomForestClassifier(n_jobs=-1),\n",
              "             param_grid={&#x27;criterion&#x27;: [&#x27;gini&#x27;, &#x27;entropy&#x27;],\n",
              "                         &#x27;min_samples_leaf&#x27;: [1, 2],\n",
              "                         &#x27;min_samples_split&#x27;: [2, 3],\n",
              "                         &#x27;n_estimators&#x27;: [100, 250]},\n",
              "             verbose=10)</pre><b>In a Jupyter environment, please rerun this cell to show the HTML representation or trust the notebook. <br />On GitHub, the HTML representation is unable to render, please try loading this page with nbviewer.org.</b></div><div class=\"sk-container\" hidden><div class=\"sk-item sk-dashed-wrapped\"><div class=\"sk-label-container\"><div class=\"sk-label sk-toggleable\"><input class=\"sk-toggleable__control sk-hidden--visually\" id=\"sk-estimator-id-7\" type=\"checkbox\" ><label for=\"sk-estimator-id-7\" class=\"sk-toggleable__label sk-toggleable__label-arrow\">GridSearchCV</label><div class=\"sk-toggleable__content\"><pre>GridSearchCV(estimator=RandomForestClassifier(n_jobs=-1),\n",
              "             param_grid={&#x27;criterion&#x27;: [&#x27;gini&#x27;, &#x27;entropy&#x27;],\n",
              "                         &#x27;min_samples_leaf&#x27;: [1, 2],\n",
              "                         &#x27;min_samples_split&#x27;: [2, 3],\n",
              "                         &#x27;n_estimators&#x27;: [100, 250]},\n",
              "             verbose=10)</pre></div></div></div><div class=\"sk-parallel\"><div class=\"sk-parallel-item\"><div class=\"sk-item\"><div class=\"sk-label-container\"><div class=\"sk-label sk-toggleable\"><input class=\"sk-toggleable__control sk-hidden--visually\" id=\"sk-estimator-id-8\" type=\"checkbox\" ><label for=\"sk-estimator-id-8\" class=\"sk-toggleable__label sk-toggleable__label-arrow\">estimator: RandomForestClassifier</label><div class=\"sk-toggleable__content\"><pre>RandomForestClassifier(n_jobs=-1)</pre></div></div></div><div class=\"sk-serial\"><div class=\"sk-item\"><div class=\"sk-estimator sk-toggleable\"><input class=\"sk-toggleable__control sk-hidden--visually\" id=\"sk-estimator-id-9\" type=\"checkbox\" ><label for=\"sk-estimator-id-9\" class=\"sk-toggleable__label sk-toggleable__label-arrow\">RandomForestClassifier</label><div class=\"sk-toggleable__content\"><pre>RandomForestClassifier(n_jobs=-1)</pre></div></div></div></div></div></div></div></div></div></div>"
            ]
          },
          "metadata": {},
          "execution_count": 96
        }
      ]
    },
    {
      "cell_type": "code",
      "source": [
        "random_forest.best_params_"
      ],
      "metadata": {
        "colab": {
          "base_uri": "https://localhost:8080/"
        },
        "id": "3WqUA8dLN1mG",
        "outputId": "8577a7d5-a58d-4201-838a-38eb3275e80e"
      },
      "execution_count": 97,
      "outputs": [
        {
          "output_type": "execute_result",
          "data": {
            "text/plain": [
              "{'criterion': 'gini',\n",
              " 'min_samples_leaf': 1,\n",
              " 'min_samples_split': 3,\n",
              " 'n_estimators': 250}"
            ]
          },
          "metadata": {},
          "execution_count": 97
        }
      ]
    },
    {
      "cell_type": "code",
      "source": [
        "y_pred = random_forest.predict(X_train_trans)"
      ],
      "metadata": {
        "id": "8hzkJx6pGVA8"
      },
      "execution_count": 98,
      "outputs": []
    },
    {
      "cell_type": "code",
      "source": [
        "accuracy = accuracy_score(y_train, y_pred)\n",
        "accuracy"
      ],
      "metadata": {
        "colab": {
          "base_uri": "https://localhost:8080/"
        },
        "id": "V9cr7DuLHhHk",
        "outputId": "782a6f08-35e1-488d-9e51-b38b2c8c1d69"
      },
      "execution_count": 99,
      "outputs": [
        {
          "output_type": "execute_result",
          "data": {
            "text/plain": [
              "1.0"
            ]
          },
          "metadata": {},
          "execution_count": 99
        }
      ]
    },
    {
      "cell_type": "code",
      "source": [
        "y_pred = random_forest.predict(X_test_trans)"
      ],
      "metadata": {
        "id": "_By4YscdHW8H"
      },
      "execution_count": 100,
      "outputs": []
    },
    {
      "cell_type": "code",
      "source": [
        "accuracy = accuracy_score(y_test, y_pred)\n",
        "accuracy"
      ],
      "metadata": {
        "colab": {
          "base_uri": "https://localhost:8080/"
        },
        "id": "VRcNaBcwGseL",
        "outputId": "8d73fbe3-d8b0-44b0-e0c9-d8d7076a3398"
      },
      "execution_count": 101,
      "outputs": [
        {
          "output_type": "execute_result",
          "data": {
            "text/plain": [
              "0.958997722095672"
            ]
          },
          "metadata": {},
          "execution_count": 101
        }
      ]
    },
    {
      "cell_type": "markdown",
      "source": [
        "#  Grid Search for Support Vector Classifier (SVC) Hyperparameters"
      ],
      "metadata": {
        "id": "KVJMDjeP8pWS"
      }
    },
    {
      "cell_type": "markdown",
      "source": [
        "Ο λόγος που χρησιμοποιούμε svm είναι επειδή το dataset είναι μικρό και έχουμε μικρό αριθμό διαστάσεων μετά το pca."
      ],
      "metadata": {
        "id": "QPxCuZXx6QsH"
      }
    },
    {
      "cell_type": "markdown",
      "source": [],
      "metadata": {
        "id": "99KrqICm9gL6"
      }
    },
    {
      "cell_type": "code",
      "source": [
        "svc = GridSearchCV(SVC(),{\n",
        "    'kernel' : ['linear', 'rbf'],\n",
        "    'C' : [0.1, 1, 10]\n",
        "})\n",
        "\n",
        "svc.fit(X_train_trans, y_train)"
      ],
      "metadata": {
        "id": "YVouLO-tKDk0",
        "colab": {
          "base_uri": "https://localhost:8080/",
          "height": 117
        },
        "outputId": "54270689-9973-4bbb-8da7-d3f84ca19fdc"
      },
      "execution_count": 102,
      "outputs": [
        {
          "output_type": "execute_result",
          "data": {
            "text/plain": [
              "GridSearchCV(estimator=SVC(),\n",
              "             param_grid={'C': [0.1, 1, 10], 'kernel': ['linear', 'rbf']})"
            ],
            "text/html": [
              "<style>#sk-container-id-4 {color: black;background-color: white;}#sk-container-id-4 pre{padding: 0;}#sk-container-id-4 div.sk-toggleable {background-color: white;}#sk-container-id-4 label.sk-toggleable__label {cursor: pointer;display: block;width: 100%;margin-bottom: 0;padding: 0.3em;box-sizing: border-box;text-align: center;}#sk-container-id-4 label.sk-toggleable__label-arrow:before {content: \"▸\";float: left;margin-right: 0.25em;color: #696969;}#sk-container-id-4 label.sk-toggleable__label-arrow:hover:before {color: black;}#sk-container-id-4 div.sk-estimator:hover label.sk-toggleable__label-arrow:before {color: black;}#sk-container-id-4 div.sk-toggleable__content {max-height: 0;max-width: 0;overflow: hidden;text-align: left;background-color: #f0f8ff;}#sk-container-id-4 div.sk-toggleable__content pre {margin: 0.2em;color: black;border-radius: 0.25em;background-color: #f0f8ff;}#sk-container-id-4 input.sk-toggleable__control:checked~div.sk-toggleable__content {max-height: 200px;max-width: 100%;overflow: auto;}#sk-container-id-4 input.sk-toggleable__control:checked~label.sk-toggleable__label-arrow:before {content: \"▾\";}#sk-container-id-4 div.sk-estimator input.sk-toggleable__control:checked~label.sk-toggleable__label {background-color: #d4ebff;}#sk-container-id-4 div.sk-label input.sk-toggleable__control:checked~label.sk-toggleable__label {background-color: #d4ebff;}#sk-container-id-4 input.sk-hidden--visually {border: 0;clip: rect(1px 1px 1px 1px);clip: rect(1px, 1px, 1px, 1px);height: 1px;margin: -1px;overflow: hidden;padding: 0;position: absolute;width: 1px;}#sk-container-id-4 div.sk-estimator {font-family: monospace;background-color: #f0f8ff;border: 1px dotted black;border-radius: 0.25em;box-sizing: border-box;margin-bottom: 0.5em;}#sk-container-id-4 div.sk-estimator:hover {background-color: #d4ebff;}#sk-container-id-4 div.sk-parallel-item::after {content: \"\";width: 100%;border-bottom: 1px solid gray;flex-grow: 1;}#sk-container-id-4 div.sk-label:hover label.sk-toggleable__label {background-color: #d4ebff;}#sk-container-id-4 div.sk-serial::before {content: \"\";position: absolute;border-left: 1px solid gray;box-sizing: border-box;top: 0;bottom: 0;left: 50%;z-index: 0;}#sk-container-id-4 div.sk-serial {display: flex;flex-direction: column;align-items: center;background-color: white;padding-right: 0.2em;padding-left: 0.2em;position: relative;}#sk-container-id-4 div.sk-item {position: relative;z-index: 1;}#sk-container-id-4 div.sk-parallel {display: flex;align-items: stretch;justify-content: center;background-color: white;position: relative;}#sk-container-id-4 div.sk-item::before, #sk-container-id-4 div.sk-parallel-item::before {content: \"\";position: absolute;border-left: 1px solid gray;box-sizing: border-box;top: 0;bottom: 0;left: 50%;z-index: -1;}#sk-container-id-4 div.sk-parallel-item {display: flex;flex-direction: column;z-index: 1;position: relative;background-color: white;}#sk-container-id-4 div.sk-parallel-item:first-child::after {align-self: flex-end;width: 50%;}#sk-container-id-4 div.sk-parallel-item:last-child::after {align-self: flex-start;width: 50%;}#sk-container-id-4 div.sk-parallel-item:only-child::after {width: 0;}#sk-container-id-4 div.sk-dashed-wrapped {border: 1px dashed gray;margin: 0 0.4em 0.5em 0.4em;box-sizing: border-box;padding-bottom: 0.4em;background-color: white;}#sk-container-id-4 div.sk-label label {font-family: monospace;font-weight: bold;display: inline-block;line-height: 1.2em;}#sk-container-id-4 div.sk-label-container {text-align: center;}#sk-container-id-4 div.sk-container {/* jupyter's `normalize.less` sets `[hidden] { display: none; }` but bootstrap.min.css set `[hidden] { display: none !important; }` so we also need the `!important` here to be able to override the default hidden behavior on the sphinx rendered scikit-learn.org. See: https://github.com/scikit-learn/scikit-learn/issues/21755 */display: inline-block !important;position: relative;}#sk-container-id-4 div.sk-text-repr-fallback {display: none;}</style><div id=\"sk-container-id-4\" class=\"sk-top-container\"><div class=\"sk-text-repr-fallback\"><pre>GridSearchCV(estimator=SVC(),\n",
              "             param_grid={&#x27;C&#x27;: [0.1, 1, 10], &#x27;kernel&#x27;: [&#x27;linear&#x27;, &#x27;rbf&#x27;]})</pre><b>In a Jupyter environment, please rerun this cell to show the HTML representation or trust the notebook. <br />On GitHub, the HTML representation is unable to render, please try loading this page with nbviewer.org.</b></div><div class=\"sk-container\" hidden><div class=\"sk-item sk-dashed-wrapped\"><div class=\"sk-label-container\"><div class=\"sk-label sk-toggleable\"><input class=\"sk-toggleable__control sk-hidden--visually\" id=\"sk-estimator-id-10\" type=\"checkbox\" ><label for=\"sk-estimator-id-10\" class=\"sk-toggleable__label sk-toggleable__label-arrow\">GridSearchCV</label><div class=\"sk-toggleable__content\"><pre>GridSearchCV(estimator=SVC(),\n",
              "             param_grid={&#x27;C&#x27;: [0.1, 1, 10], &#x27;kernel&#x27;: [&#x27;linear&#x27;, &#x27;rbf&#x27;]})</pre></div></div></div><div class=\"sk-parallel\"><div class=\"sk-parallel-item\"><div class=\"sk-item\"><div class=\"sk-label-container\"><div class=\"sk-label sk-toggleable\"><input class=\"sk-toggleable__control sk-hidden--visually\" id=\"sk-estimator-id-11\" type=\"checkbox\" ><label for=\"sk-estimator-id-11\" class=\"sk-toggleable__label sk-toggleable__label-arrow\">estimator: SVC</label><div class=\"sk-toggleable__content\"><pre>SVC()</pre></div></div></div><div class=\"sk-serial\"><div class=\"sk-item\"><div class=\"sk-estimator sk-toggleable\"><input class=\"sk-toggleable__control sk-hidden--visually\" id=\"sk-estimator-id-12\" type=\"checkbox\" ><label for=\"sk-estimator-id-12\" class=\"sk-toggleable__label sk-toggleable__label-arrow\">SVC</label><div class=\"sk-toggleable__content\"><pre>SVC()</pre></div></div></div></div></div></div></div></div></div></div>"
            ]
          },
          "metadata": {},
          "execution_count": 102
        }
      ]
    },
    {
      "cell_type": "code",
      "source": [
        "svc.best_params_"
      ],
      "metadata": {
        "id": "CuZUZLGCQtyJ",
        "colab": {
          "base_uri": "https://localhost:8080/"
        },
        "outputId": "657ae89f-824a-4145-aa69-547551900db1"
      },
      "execution_count": 103,
      "outputs": [
        {
          "output_type": "execute_result",
          "data": {
            "text/plain": [
              "{'C': 10, 'kernel': 'rbf'}"
            ]
          },
          "metadata": {},
          "execution_count": 103
        }
      ]
    },
    {
      "cell_type": "code",
      "source": [
        "y_pred = svc.predict(X_train_trans)"
      ],
      "metadata": {
        "id": "OxXmqLmVK0ku"
      },
      "execution_count": 104,
      "outputs": []
    },
    {
      "cell_type": "code",
      "source": [
        "accuracy = accuracy_score(y_train, y_pred)\n",
        "accuracy"
      ],
      "metadata": {
        "id": "JR5ySJLZLFV1",
        "colab": {
          "base_uri": "https://localhost:8080/"
        },
        "outputId": "5d4e02db-d61c-4621-ac36-47319372373f"
      },
      "execution_count": 105,
      "outputs": [
        {
          "output_type": "execute_result",
          "data": {
            "text/plain": [
              "1.0"
            ]
          },
          "metadata": {},
          "execution_count": 105
        }
      ]
    },
    {
      "cell_type": "code",
      "source": [
        "y_pred = svc.predict(X_test_trans)"
      ],
      "metadata": {
        "id": "KVHRb319LKVh"
      },
      "execution_count": 106,
      "outputs": []
    },
    {
      "cell_type": "code",
      "source": [
        "accuracy = accuracy_score(y_test, y_pred)\n",
        "accuracy"
      ],
      "metadata": {
        "id": "Q3IhQKXWLMFr",
        "colab": {
          "base_uri": "https://localhost:8080/"
        },
        "outputId": "ee913e89-e5f3-4517-8d47-660099f79e7c"
      },
      "execution_count": 107,
      "outputs": [
        {
          "output_type": "execute_result",
          "data": {
            "text/plain": [
              "0.9840546697038725"
            ]
          },
          "metadata": {},
          "execution_count": 107
        }
      ]
    },
    {
      "cell_type": "markdown",
      "source": [
        "# Rock-Paper-Scissors Game Simulation using a Trained Classifier"
      ],
      "metadata": {
        "id": "q9D8E5JW80xu"
      }
    },
    {
      "cell_type": "code",
      "source": [
        "def rock_paper_scissors(player, image_set, labels, errors=[]):\n",
        "  score=0\n",
        "  w=0\n",
        "  e=0\n",
        "  s=0\n",
        "  sc=[]\n",
        "  for i in range(500):\n",
        "    idx = np.random.randint(0, len(X_test))\n",
        "    image = image_set[idx]\n",
        "    image = apply_vertical_flip(image, 0.5)\n",
        "    image = apply_horizontal_flip(image, 0.5)\n",
        "    image = apply_random_noise(image, mean=0, std_dev=0.05)\n",
        "    image = image.reshape(1, -1)\n",
        "    image = pca.transform(image)\n",
        "    y_pred = player.predict(image)\n",
        "    y_true = labels[idx]\n",
        "    hand = 0\n",
        "    if y_pred==0:\n",
        "      hand=2\n",
        "    elif y_pred==1:\n",
        "      hand=0\n",
        "    else:\n",
        "      hand=1\n",
        "\n",
        "    reward=0\n",
        "    if y_true==0:\n",
        "      if hand==0:\n",
        "        reward=0\n",
        "      elif hand==1:\n",
        "        reward=-1\n",
        "      else:\n",
        "        reward=1\n",
        "    elif y_true==1:\n",
        "      if hand==0:\n",
        "        reward=1\n",
        "      elif hand==1:\n",
        "        reward=0\n",
        "      else:\n",
        "        reward=-1\n",
        "    else:\n",
        "      if hand==0:\n",
        "        reward=-1\n",
        "      elif hand==1:\n",
        "        reward=1\n",
        "      else:\n",
        "        reward=0\n",
        "    score=score+reward\n",
        "    if reward==0:\n",
        "      s=s+1\n",
        "      errors.append((image_set[idx], y_pred))\n",
        "    elif reward==1:\n",
        "      w=w+1\n",
        "    else:\n",
        "      e=e+1\n",
        "      errors.append((image_set[idx], y_pred))\n",
        "    sc.append(score)\n",
        "  print(f\"score={score}, wins={w}, losses={e}, ties={s}\")\n",
        "\n",
        "  return sc"
      ],
      "metadata": {
        "id": "Pf4F4gWerCqP"
      },
      "execution_count": 127,
      "outputs": []
    },
    {
      "cell_type": "code",
      "source": [
        "sc = rock_paper_scissors(svc, X_test, y_test)"
      ],
      "metadata": {
        "colab": {
          "base_uri": "https://localhost:8080/"
        },
        "id": "d8mzIzdgwiiq",
        "outputId": "af7ca8ad-c84a-4778-ee5e-40e0611f99f4"
      },
      "execution_count": 109,
      "outputs": [
        {
          "output_type": "stream",
          "name": "stdout",
          "text": [
            "score=482, wins=488, losses=6, ties=6\n"
          ]
        }
      ]
    },
    {
      "cell_type": "code",
      "source": [
        "plt.plot(sc)\n",
        "plt.xlabel(\"Rounds\")\n",
        "plt.ylabel(\"Total Score\")\n",
        "plt.title(\"SVM Total Score per Round\")"
      ],
      "metadata": {
        "colab": {
          "base_uri": "https://localhost:8080/",
          "height": 489
        },
        "id": "Yndl7z4E42jf",
        "outputId": "3c5d6c96-0b8d-4a49-81bc-15b2c746355f"
      },
      "execution_count": 110,
      "outputs": [
        {
          "output_type": "execute_result",
          "data": {
            "text/plain": [
              "Text(0.5, 1.0, 'SVM Total Score per Round')"
            ]
          },
          "metadata": {},
          "execution_count": 110
        },
        {
          "output_type": "display_data",
          "data": {
            "text/plain": [
              "<Figure size 640x480 with 1 Axes>"
            ],
            "image/png": "[encoded data removed]"
          },
          "metadata": {}
        }
      ]
    },
    {
      "cell_type": "code",
      "source": [
        "sc = rock_paper_scissors(random_forest, X_test, y_test)"
      ],
      "metadata": {
        "colab": {
          "base_uri": "https://localhost:8080/"
        },
        "id": "9d77atnWR6yB",
        "outputId": "198ab182-5bab-4341-c4ac-3b922b71b296"
      },
      "execution_count": 111,
      "outputs": [
        {
          "output_type": "stream",
          "name": "stdout",
          "text": [
            "score=470, wins=480, losses=10, ties=10\n"
          ]
        }
      ]
    },
    {
      "cell_type": "code",
      "source": [
        "plt.plot(sc)\n",
        "plt.xlabel(\"Rounds\")\n",
        "plt.ylabel(\"Total Score\")\n",
        "plt.title(\" Random Forest Total Score per Round\")"
      ],
      "metadata": {
        "colab": {
          "base_uri": "https://localhost:8080/",
          "height": 489
        },
        "id": "wI9qUEh0SF1J",
        "outputId": "32eb7b6d-94c8-4987-815e-502772d8db56"
      },
      "execution_count": 112,
      "outputs": [
        {
          "output_type": "execute_result",
          "data": {
            "text/plain": [
              "Text(0.5, 1.0, ' Random Forest Total Score per Round')"
            ]
          },
          "metadata": {},
          "execution_count": 112
        },
        {
          "output_type": "display_data",
          "data": {
            "text/plain": [
              "<Figure size 640x480 with 1 Axes>"
            ],
            "image/png": "[encoded data removed]"
          },
          "metadata": {}
        }
      ]
    },
    {
      "cell_type": "markdown",
      "source": [
        "# Testing with a different dataset"
      ],
      "metadata": {
        "id": "ySrSnkSKOyC4"
      }
    },
    {
      "cell_type": "code",
      "source": [
        "X_new = []\n",
        "y_new = []\n",
        "for ci, c in enumerate(['rock', 'scissors', 'paper']):\n",
        "    for im_path in glob.glob(f\"drive/MyDrive/1/{c}/*.jpg\"):\n",
        "        im = cv2.imread(im_path)\n",
        "        im = cv2.cvtColor(im, cv2.COLOR_BGR2RGB)\n",
        "        im = np.float32(cv2.resize(im, (120, 80), interpolation=cv2.INTER_AREA)) / 255.0\n",
        "        X_new.append(im)\n",
        "        y_new.append(ci)\n",
        "X_new = np.array(X_new)\n",
        "y_new = np.array(y_new)\n",
        "X_new.shape, y_new.shape"
      ],
      "metadata": {
        "colab": {
          "base_uri": "https://localhost:8080/"
        },
        "id": "Eu6Yzq9mO7eC",
        "outputId": "3262a9d1-6c64-4471-bdeb-a1fde0e335a4"
      },
      "execution_count": 113,
      "outputs": [
        {
          "output_type": "execute_result",
          "data": {
            "text/plain": [
              "((672, 80, 120, 3), (672,))"
            ]
          },
          "metadata": {},
          "execution_count": 113
        }
      ]
    },
    {
      "cell_type": "code",
      "source": [
        "sc = rock_paper_scissors(svc, X_new, y_new)"
      ],
      "metadata": {
        "colab": {
          "base_uri": "https://localhost:8080/"
        },
        "id": "qLSVi6-uQ-Uu",
        "outputId": "6093fcb2-6e40-40a8-84a8-fc7c19bad337"
      },
      "execution_count": 114,
      "outputs": [
        {
          "output_type": "stream",
          "name": "stdout",
          "text": [
            "score=98, wins=139, losses=41, ties=320\n"
          ]
        }
      ]
    },
    {
      "cell_type": "code",
      "source": [
        "plt.plot(sc)\n",
        "plt.xlabel(\"Rounds\")\n",
        "plt.ylabel(\"Total Score\")\n",
        "plt.title(\"SVM Total Score per Round\")"
      ],
      "metadata": {
        "colab": {
          "base_uri": "https://localhost:8080/",
          "height": 489
        },
        "id": "7Q4Dx3WsRgfc",
        "outputId": "2330fd2f-d535-4281-f728-21f1f3e6cc0b"
      },
      "execution_count": 115,
      "outputs": [
        {
          "output_type": "execute_result",
          "data": {
            "text/plain": [
              "Text(0.5, 1.0, 'SVM Total Score per Round')"
            ]
          },
          "metadata": {},
          "execution_count": 115
        },
        {
          "output_type": "display_data",
          "data": {
            "text/plain": [
              "<Figure size 640x480 with 1 Axes>"
            ],
            "image/png": "[encoded data removed]"
          },
          "metadata": {}
        }
      ]
    },
    {
      "cell_type": "code",
      "source": [
        "sc = rock_paper_scissors(random_forest, X_new, y_new)"
      ],
      "metadata": {
        "colab": {
          "base_uri": "https://localhost:8080/"
        },
        "id": "-4_ZuyPWSbwH",
        "outputId": "e0f5eaf5-30dd-4715-92cd-a26507b52389"
      },
      "execution_count": 116,
      "outputs": [
        {
          "output_type": "stream",
          "name": "stdout",
          "text": [
            "score=-324, wins=11, losses=335, ties=154\n"
          ]
        }
      ]
    },
    {
      "cell_type": "code",
      "source": [
        "plt.plot(sc)\n",
        "plt.xlabel(\"Rounds\")\n",
        "plt.ylabel(\"Total Score\")\n",
        "plt.title(\"Random Forest Total Score per Round\")"
      ],
      "metadata": {
        "colab": {
          "base_uri": "https://localhost:8080/",
          "height": 489
        },
        "id": "4THqMYNmSgKS",
        "outputId": "a36f324f-22cf-4239-f509-361d385a6da8"
      },
      "execution_count": 117,
      "outputs": [
        {
          "output_type": "execute_result",
          "data": {
            "text/plain": [
              "Text(0.5, 1.0, 'Random Forest Total Score per Round')"
            ]
          },
          "metadata": {},
          "execution_count": 117
        },
        {
          "output_type": "display_data",
          "data": {
            "text/plain": [
              "<Figure size 640x480 with 1 Axes>"
            ],
            "image/png": "[encoded data removed]"
          },
          "metadata": {}
        }
      ]
    },
    {
      "cell_type": "markdown",
      "source": [
        "# Errors in classification"
      ],
      "metadata": {
        "id": "aGlzSJVdn9LX"
      }
    },
    {
      "cell_type": "code",
      "source": [
        "error = []\n",
        "rps = rock_paper_scissors(svc, X_test, y_test, error)"
      ],
      "metadata": {
        "colab": {
          "base_uri": "https://localhost:8080/"
        },
        "id": "J8k3yTCboE8P",
        "outputId": "46c773f4-a7bd-41b2-9710-732f487d1772"
      },
      "execution_count": 128,
      "outputs": [
        {
          "output_type": "stream",
          "name": "stdout",
          "text": [
            "score=483, wins=489, losses=6, ties=5\n"
          ]
        }
      ]
    },
    {
      "cell_type": "code",
      "source": [
        "plt.imshow(error[0][0])\n",
        "error[0][1]"
      ],
      "metadata": {
        "colab": {
          "base_uri": "https://localhost:8080/",
          "height": 411
        },
        "id": "QlKp71OJoh4N",
        "outputId": "22b2270d-45ea-404b-924e-3407e9ca2d58"
      },
      "execution_count": 144,
      "outputs": [
        {
          "output_type": "execute_result",
          "data": {
            "text/plain": [
              "array([2])"
            ]
          },
          "metadata": {},
          "execution_count": 144
        },
        {
          "output_type": "display_data",
          "data": {
            "text/plain": [
              "<Figure size 640x480 with 1 Axes>"
            ],
            "image/png": "[encoded data removed]"
          },
          "metadata": {}
        }
      ]
    },
    {
      "cell_type": "markdown",
      "source": [
        "Για την αποφυγή παρόμοιων σφαλμάτων κατηγοριοποίησης εφαρμόσαμε μείωση διαστάσεων με pca έτσι ώστε να κρατήσουμε\n",
        "τα σημαντικότερα χαρακτηριστικά του dataset."
      ],
      "metadata": {
        "id": "hjr65yJd50RH"
      }
    },
    {
      "cell_type": "markdown",
      "source": [
        "# Conclusion"
      ],
      "metadata": {
        "id": "qFaI5xljl2In"
      }
    },
    {
      "cell_type": "markdown",
      "source": [
        "Συμπεραίνεται ότι τα svm φαίνεται να αποδίδουν καλύτερα από τα random forest και στα δύο dataset. Είναι ενδιαφέρον να σημειωθεί ότι ακόμα και στο δεύτερο dataset, το svm καταφέρνει να κάνει σωστές προβλέψεις σε ικανοποιητικό βαθμό, παρόλο που είναι εκπαιδευμένο μόνο στο πρώτο. Από την άλλη πλευρά το random forest δεν καταφέρνει να κάνει σωστές προβλέψεις στο δεύτερο dataset."
      ],
      "metadata": {
        "id": "2DASysQVl4zt"
      }
    }
  ]
}